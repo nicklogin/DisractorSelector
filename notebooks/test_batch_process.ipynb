{
 "cells": [
  {
   "cell_type": "code",
   "execution_count": 1,
   "metadata": {},
   "outputs": [
    {
     "name": "stderr",
     "output_type": "stream",
     "text": [
      "Some weights of the model checkpoint at bert-base-cased were not used when initializing BertModel: ['cls.predictions.transform.LayerNorm.bias', 'cls.predictions.decoder.weight', 'cls.predictions.transform.LayerNorm.weight', 'cls.seq_relationship.weight', 'cls.seq_relationship.bias', 'cls.predictions.transform.dense.bias', 'cls.predictions.bias', 'cls.predictions.transform.dense.weight']\n",
      "- This IS expected if you are initializing BertModel from the checkpoint of a model trained on another task or with another architecture (e.g. initializing a BertForSequenceClassification model from a BertForPreTraining model).\n",
      "- This IS NOT expected if you are initializing BertModel from the checkpoint of a model that you expect to be exactly identical (initializing a BertForSequenceClassification model from a BertForSequenceClassification model).\n"
     ]
    }
   ],
   "source": [
    "import os\n",
    "os.chdir(\"..\")\n",
    "from distractor_generator.example_processor import batch_process_entries"
   ]
  },
  {
   "cell_type": "code",
   "execution_count": 2,
   "metadata": {},
   "outputs": [],
   "source": [
    "import torch as tt\n",
    "a = tt.rand((2,4,3))"
   ]
  },
  {
   "cell_type": "code",
   "execution_count": 3,
   "metadata": {},
   "outputs": [
    {
     "data": {
      "text/plain": [
       "tensor([[[0.4111, 0.1289, 0.8769],\n",
       "         [0.9955, 0.4671, 0.2258],\n",
       "         [0.8830, 0.1586, 0.5171],\n",
       "         [0.4949, 0.1541, 0.1701]],\n",
       "\n",
       "        [[0.4836, 0.9789, 0.5269],\n",
       "         [0.3424, 0.4400, 0.1778],\n",
       "         [0.2342, 0.4282, 0.2225],\n",
       "         [0.8502, 0.6512, 0.6954]]])"
      ]
     },
     "execution_count": 3,
     "metadata": {},
     "output_type": "execute_result"
    }
   ],
   "source": [
    "a"
   ]
  },
  {
   "cell_type": "code",
   "execution_count": 4,
   "metadata": {},
   "outputs": [
    {
     "data": {
      "text/plain": [
       "tensor([[0.9955, 0.4671, 0.2258],\n",
       "        [0.8502, 0.6512, 0.6954],\n",
       "        [0.4836, 0.9789, 0.5269],\n",
       "        [0.8830, 0.1586, 0.5171]])"
      ]
     },
     "execution_count": 4,
     "metadata": {},
     "output_type": "execute_result"
    }
   ],
   "source": [
    "a[\n",
    "    [0,1,1,0], [1,3,0,2]\n",
    "]"
   ]
  },
  {
   "cell_type": "code",
   "execution_count": 5,
   "metadata": {},
   "outputs": [],
   "source": [
    "masked_sents = [\n",
    "    \"I want to ride my [MASK]\",\n",
    "    \"I want to eat an [MASK]\"\n",
    "]\n",
    "right_answers = [\"bicycle\",\"apple\"]\n",
    "distractor_lists = [\n",
    "    [\"car\",\"plane\",\"train\"],\n",
    "    [\"hamburger\",\"pizza\",\"cake\"]\n",
    "]"
   ]
  },
  {
   "cell_type": "code",
   "execution_count": 7,
   "metadata": {},
   "outputs": [],
   "source": [
    "output = batch_process_entries(\n",
    "    masked_sents,\n",
    "    right_answers,\n",
    "    distractor_lists\n",
    ")"
   ]
  },
  {
   "cell_type": "code",
   "execution_count": 13,
   "metadata": {},
   "outputs": [
    {
     "data": {
      "text/plain": [
       "(True, False)"
      ]
     },
     "execution_count": 13,
     "metadata": {},
     "output_type": "execute_result"
    }
   ],
   "source": [
    "\"bm_767\" in output[0], \"bm_768\" in output[0]"
   ]
  },
  {
   "cell_type": "code",
   "execution_count": 14,
   "metadata": {},
   "outputs": [
    {
     "data": {
      "text/plain": [
       "(True, False)"
      ]
     },
     "execution_count": 14,
     "metadata": {},
     "output_type": "execute_result"
    }
   ],
   "source": [
    "\"bm_767\" in output[1], \"bm_768\" in output[1]"
   ]
  },
  {
   "cell_type": "code",
   "execution_count": 1,
   "metadata": {},
   "outputs": [
    {
     "name": "stdout",
     "output_type": "stream",
     "text": [
      "^C\n"
     ]
    }
   ],
   "source": [
    "!python -m distractor_generator"
   ]
  }
 ],
 "metadata": {
  "kernelspec": {
   "display_name": "Python 3.8.10 ('env': venv)",
   "language": "python",
   "name": "python3"
  },
  "language_info": {
   "codemirror_mode": {
    "name": "ipython",
    "version": 3
   },
   "file_extension": ".py",
   "mimetype": "text/x-python",
   "name": "python",
   "nbconvert_exporter": "python",
   "pygments_lexer": "ipython3",
   "version": "3.8.10"
  },
  "orig_nbformat": 4,
  "vscode": {
   "interpreter": {
    "hash": "fb027b1bff303369109a8d50bcc199fe80021bce48afce4744d88617980fbd0e"
   }
  }
 },
 "nbformat": 4,
 "nbformat_minor": 2
}
