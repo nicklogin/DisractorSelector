{
 "cells": [
  {
   "cell_type": "code",
   "execution_count": 1,
   "metadata": {},
   "outputs": [],
   "source": [
    "import pandas as pd\n",
    "import os\n",
    "\n",
    "from ast import literal_eval\n",
    "\n",
    "os.chdir(\"..\")"
   ]
  },
  {
   "cell_type": "code",
   "execution_count": 2,
   "metadata": {},
   "outputs": [],
   "source": [
    "GOLD_STANDARD_PATH = \"gold_standard/gold_standard_annot_final.csv\"\n",
    "MODEL_FOLDERS = [\n",
    "    \"CatBoostFeatDrop\",\n",
    "    \"CatBoostVecsOnly\",\n",
    "    \"RandomForestFreqsOnly\",\n",
    "    \"XGBAllFeats\"\n",
    "]\n",
    "EVAL_FIELDS = [\n",
    "    \"variants\", \"Appropriate\", \"Too bad\", \"Too good\"\n",
    "]\n",
    "TOP_K = 4\n",
    "OUTP_FN = \"output.csv\"\n",
    "\n",
    "def read_df(path: str):\n",
    "    df = pd.read_csv(path, index_col=\"Unnamed: 0\", sep=\";\")\n",
    "    for field in EVAL_FIELDS:\n",
    "        if field in df:\n",
    "            df[field] = df[field].apply(literal_eval)\n",
    "    return df"
   ]
  },
  {
   "cell_type": "code",
   "execution_count": 3,
   "metadata": {},
   "outputs": [],
   "source": [
    "gold_standard = read_df(GOLD_STANDARD_PATH)\n",
    "model_dfs = dict()\n",
    "for model in MODEL_FOLDERS:\n",
    "    model_dfs[model] = read_df(f\"{model}/{OUTP_FN}\")"
   ]
  },
  {
   "cell_type": "code",
   "execution_count": 4,
   "metadata": {},
   "outputs": [
    {
     "data": {
      "text/html": [
       "<div>\n",
       "<style scoped>\n",
       "    .dataframe tbody tr th:only-of-type {\n",
       "        vertical-align: middle;\n",
       "    }\n",
       "\n",
       "    .dataframe tbody tr th {\n",
       "        vertical-align: top;\n",
       "    }\n",
       "\n",
       "    .dataframe thead th {\n",
       "        text-align: right;\n",
       "    }\n",
       "</style>\n",
       "<table border=\"1\" class=\"dataframe\">\n",
       "  <thead>\n",
       "    <tr style=\"text-align: right;\">\n",
       "      <th></th>\n",
       "      <th>Masked_sentence</th>\n",
       "      <th>Right_answer</th>\n",
       "      <th>Wrong_answer</th>\n",
       "      <th>Filename</th>\n",
       "      <th>Delete</th>\n",
       "      <th>variants</th>\n",
       "      <th>Appropriate</th>\n",
       "      <th>Too bad</th>\n",
       "      <th>Too good</th>\n",
       "      <th>Consistent</th>\n",
       "      <th>In duplicate names</th>\n",
       "    </tr>\n",
       "  </thead>\n",
       "  <tbody>\n",
       "    <tr>\n",
       "      <th>153493</th>\n",
       "      <td>The amount of people who has no occupation in...</td>\n",
       "      <td>stable</td>\n",
       "      <td>the same</td>\n",
       "      <td>exam/Exam2017/OBy_100-200/2017_OBy_120_1</td>\n",
       "      <td>0</td>\n",
       "      <td>[state, dependable, consistent, steady, prospe...</td>\n",
       "      <td>[consistent, harmonious, coherent]</td>\n",
       "      <td>[state, dependable, prosperous, volatile, reli...</td>\n",
       "      <td>[steady]</td>\n",
       "      <td>True</td>\n",
       "      <td>False</td>\n",
       "    </tr>\n",
       "    <tr>\n",
       "      <th>83294</th>\n",
       "      <td>Some politicians have come up with an idea to ...</td>\n",
       "      <td>disadvantages</td>\n",
       "      <td>backwards</td>\n",
       "      <td>exam/Exam2017/EGe_1-99/2017_EGe_19_2</td>\n",
       "      <td>0</td>\n",
       "      <td>[cons, limitations, shortcomings, weaknesses, ...</td>\n",
       "      <td>[cons, limitations, weaknesses, pitfalls, prob...</td>\n",
       "      <td>[benefits, characteristics, alternatives, opti...</td>\n",
       "      <td>[shortcomings, risks, challenges, dangers, haz...</td>\n",
       "      <td>True</td>\n",
       "      <td>False</td>\n",
       "    </tr>\n",
       "    <tr>\n",
       "      <th>77723</th>\n",
       "      <td>As for disadvantages, global warming and air ...</td>\n",
       "      <td>number</td>\n",
       "      <td>amount</td>\n",
       "      <td>exam/Exam2016/2016_MTsy_8_2</td>\n",
       "      <td>0</td>\n",
       "      <td>[amount, quantity, level, part, value, member,...</td>\n",
       "      <td>[amount, quantity, count, rate, multiplicity]</td>\n",
       "      <td>[level, part, value, member, mark, category, p...</td>\n",
       "      <td>[proportion, multitude]</td>\n",
       "      <td>True</td>\n",
       "      <td>False</td>\n",
       "    </tr>\n",
       "    <tr>\n",
       "      <th>74220</th>\n",
       "      <td>It is slightly below 30°C in Yakutsk and 30°C...</td>\n",
       "      <td>trend</td>\n",
       "      <td>tendency</td>\n",
       "      <td>exam/Exam2017/ESa_1-69/2017_ESa_69_1</td>\n",
       "      <td>0</td>\n",
       "      <td>[tendency, consistency, phenomenon, resurgence...</td>\n",
       "      <td>[tendency, upsurge, pattern, paradigm]</td>\n",
       "      <td>[consistency, phenomenon, resurgence, craze, f...</td>\n",
       "      <td>[shift]</td>\n",
       "      <td>True</td>\n",
       "      <td>False</td>\n",
       "    </tr>\n",
       "    <tr>\n",
       "      <th>53390</th>\n",
       "      <td>The number of men who are aged between 15 and...</td>\n",
       "      <td>number</td>\n",
       "      <td>part</td>\n",
       "      <td>exam/Exam2014/2014_EPa_22_1</td>\n",
       "      <td>0</td>\n",
       "      <td>[amount, quantity, level, value, member, count...</td>\n",
       "      <td>[amount, quantity, count, rate, portion, total]</td>\n",
       "      <td>[level, value, member, mark, category, quality...</td>\n",
       "      <td>[proportion]</td>\n",
       "      <td>True</td>\n",
       "      <td>False</td>\n",
       "    </tr>\n",
       "  </tbody>\n",
       "</table>\n",
       "</div>"
      ],
      "text/plain": [
       "                                          Masked_sentence   Right_answer  \\\n",
       "153493   The amount of people who has no occupation in...         stable   \n",
       "83294   Some politicians have come up with an idea to ...  disadvantages   \n",
       "77723    As for disadvantages, global warming and air ...         number   \n",
       "74220    It is slightly below 30°C in Yakutsk and 30°C...          trend   \n",
       "53390    The number of men who are aged between 15 and...         number   \n",
       "\n",
       "       Wrong_answer                                  Filename  Delete  \\\n",
       "153493     the same  exam/Exam2017/OBy_100-200/2017_OBy_120_1       0   \n",
       "83294     backwards      exam/Exam2017/EGe_1-99/2017_EGe_19_2       0   \n",
       "77723        amount               exam/Exam2016/2016_MTsy_8_2       0   \n",
       "74220      tendency      exam/Exam2017/ESa_1-69/2017_ESa_69_1       0   \n",
       "53390          part               exam/Exam2014/2014_EPa_22_1       0   \n",
       "\n",
       "                                                 variants  \\\n",
       "153493  [state, dependable, consistent, steady, prospe...   \n",
       "83294   [cons, limitations, shortcomings, weaknesses, ...   \n",
       "77723   [amount, quantity, level, part, value, member,...   \n",
       "74220   [tendency, consistency, phenomenon, resurgence...   \n",
       "53390   [amount, quantity, level, value, member, count...   \n",
       "\n",
       "                                              Appropriate  \\\n",
       "153493                 [consistent, harmonious, coherent]   \n",
       "83294   [cons, limitations, weaknesses, pitfalls, prob...   \n",
       "77723       [amount, quantity, count, rate, multiplicity]   \n",
       "74220              [tendency, upsurge, pattern, paradigm]   \n",
       "53390     [amount, quantity, count, rate, portion, total]   \n",
       "\n",
       "                                                  Too bad  \\\n",
       "153493  [state, dependable, prosperous, volatile, reli...   \n",
       "83294   [benefits, characteristics, alternatives, opti...   \n",
       "77723   [level, part, value, member, mark, category, p...   \n",
       "74220   [consistency, phenomenon, resurgence, craze, f...   \n",
       "53390   [level, value, member, mark, category, quality...   \n",
       "\n",
       "                                                 Too good  Consistent  \\\n",
       "153493                                           [steady]        True   \n",
       "83294   [shortcomings, risks, challenges, dangers, haz...        True   \n",
       "77723                             [proportion, multitude]        True   \n",
       "74220                                             [shift]        True   \n",
       "53390                                        [proportion]        True   \n",
       "\n",
       "        In duplicate names  \n",
       "153493               False  \n",
       "83294                False  \n",
       "77723                False  \n",
       "74220                False  \n",
       "53390                False  "
      ]
     },
     "execution_count": 4,
     "metadata": {},
     "output_type": "execute_result"
    }
   ],
   "source": [
    "gold_standard.head()"
   ]
  },
  {
   "cell_type": "code",
   "execution_count": 5,
   "metadata": {},
   "outputs": [
    {
     "data": {
      "text/plain": [
       "True    76\n",
       "Name: Consistent, dtype: int64"
      ]
     },
     "execution_count": 5,
     "metadata": {},
     "output_type": "execute_result"
    }
   ],
   "source": [
    "gold_standard[\"Consistent\"].value_counts()"
   ]
  },
  {
   "cell_type": "code",
   "execution_count": 6,
   "metadata": {},
   "outputs": [
    {
     "data": {
      "text/plain": [
       "False    76\n",
       "Name: In duplicate names, dtype: int64"
      ]
     },
     "execution_count": 6,
     "metadata": {},
     "output_type": "execute_result"
    }
   ],
   "source": [
    "gold_standard[\"In duplicate names\"].value_counts()"
   ]
  },
  {
   "cell_type": "code",
   "execution_count": 7,
   "metadata": {},
   "outputs": [
    {
     "data": {
      "text/plain": [
       "(                                          Masked_sentence   Right_answer  \\\n",
       " 153493   The amount of people who has no occupation in...         stable   \n",
       " 83294   Some politicians have come up with an idea to ...  disadvantages   \n",
       " 77723    As for disadvantages, global warming and air ...         number   \n",
       " 74220    It is slightly below 30°C in Yakutsk and 30°C...          trend   \n",
       " 53390    The number of men who are aged between 15 and...         number   \n",
       " \n",
       "        Wrong_answer                                           variants  \n",
       " 153493     the same  [state, dependable, consistent, steady, prospe...  \n",
       " 83294     backwards  [cons, advantages, limitations, shortcomings, ...  \n",
       " 77723        amount  [amount, quantity, level, part, value, count, ...  \n",
       " 74220      tendency  [tendency, consistency, phenomenon, resurgence...  \n",
       " 53390          part  [amount, quantity, level, value, count, rate, ...  ,\n",
       " (76, 4))"
      ]
     },
     "execution_count": 7,
     "metadata": {},
     "output_type": "execute_result"
    }
   ],
   "source": [
    "model_dfs[\"CatBoostFeatDrop\"].head(), model_dfs[\"CatBoostFeatDrop\"].shape"
   ]
  },
  {
   "cell_type": "code",
   "execution_count": 8,
   "metadata": {},
   "outputs": [
    {
     "data": {
      "text/plain": [
       "(                                          Masked_sentence   Right_answer  \\\n",
       " 153493   The amount of people who has no occupation in...         stable   \n",
       " 83294   Some politicians have come up with an idea to ...  disadvantages   \n",
       " 77723    As for disadvantages, global warming and air ...         number   \n",
       " 74220    It is slightly below 30°C in Yakutsk and 30°C...          trend   \n",
       " 53390    The number of men who are aged between 15 and...         number   \n",
       " \n",
       "        Wrong_answer                                           variants  \n",
       " 153493     the same  [state, dependable, consistent, steady, prospe...  \n",
       " 83294     backwards  [cons, advantages, limitations, shortcomings, ...  \n",
       " 77723        amount  [amount, quantity, value, count, multitude, ha...  \n",
       " 74220      tendency  [tendency, consistency, phenomenon, resurgence...  \n",
       " 53390          part  [amount, quantity, value, multitude, variety, ...  ,\n",
       " (76, 4))"
      ]
     },
     "execution_count": 8,
     "metadata": {},
     "output_type": "execute_result"
    }
   ],
   "source": [
    "model_dfs[\"CatBoostVecsOnly\"].head(), model_dfs[\"CatBoostVecsOnly\"].shape"
   ]
  },
  {
   "cell_type": "code",
   "execution_count": 9,
   "metadata": {},
   "outputs": [
    {
     "data": {
      "text/plain": [
       "(                                          Masked_sentence   Right_answer  \\\n",
       " 153493   The amount of people who has no occupation in...         stable   \n",
       " 83294   Some politicians have come up with an idea to ...  disadvantages   \n",
       " 77723    As for disadvantages, global warming and air ...         number   \n",
       " 74220    It is slightly below 30°C in Yakutsk and 30°C...          trend   \n",
       " 53390    The number of men who are aged between 15 and...         number   \n",
       " \n",
       "        Wrong_answer                                           variants  \n",
       " 153493     the same  [state, dependable, consistent, steady, prospe...  \n",
       " 83294     backwards  [cons, advantages, limitations, shortcomings, ...  \n",
       " 77723        amount  [amount, quantity, level, part, value, count, ...  \n",
       " 74220      tendency  [tendency, consistency, phenomenon, resurgence...  \n",
       " 53390          part  [amount, quantity, level, value, count, rate, ...  ,\n",
       " (76, 4))"
      ]
     },
     "execution_count": 9,
     "metadata": {},
     "output_type": "execute_result"
    }
   ],
   "source": [
    "model_dfs[\"RandomForestFreqsOnly\"].head(), model_dfs[\"RandomForestFreqsOnly\"].shape"
   ]
  },
  {
   "cell_type": "code",
   "execution_count": 10,
   "metadata": {},
   "outputs": [
    {
     "data": {
      "text/plain": [
       "(                                          Masked_sentence   Right_answer  \\\n",
       " 153493   The amount of people who has no occupation in...         stable   \n",
       " 83294   Some politicians have come up with an idea to ...  disadvantages   \n",
       " 77723    As for disadvantages, global warming and air ...         number   \n",
       " 74220    It is slightly below 30°C in Yakutsk and 30°C...          trend   \n",
       " 53390    The number of men who are aged between 15 and...         number   \n",
       " \n",
       "        Wrong_answer                                           variants  \n",
       " 153493     the same  [state, dependable, consistent, steady, prospe...  \n",
       " 83294     backwards  [cons, limitations, shortcomings, weaknesses, ...  \n",
       " 77723        amount  [amount, quantity, level, part, value, count, ...  \n",
       " 74220      tendency  [tendency, consistency, craze, fad, upsurge, p...  \n",
       " 53390          part  [amount, quantity, level, value, count, propor...  ,\n",
       " (76, 4))"
      ]
     },
     "execution_count": 10,
     "metadata": {},
     "output_type": "execute_result"
    }
   ],
   "source": [
    "model_dfs[\"XGBAllFeats\"].head(), model_dfs[\"XGBAllFeats\"].shape"
   ]
  },
  {
   "cell_type": "code",
   "execution_count": 11,
   "metadata": {},
   "outputs": [
    {
     "data": {
      "text/plain": [
       "(True, True, True, True)"
      ]
     },
     "execution_count": 11,
     "metadata": {},
     "output_type": "execute_result"
    }
   ],
   "source": [
    "(\n",
    "    gold_standard.index.equals(model_dfs[\"CatBoostFeatDrop\"].index),\n",
    "    gold_standard.index.equals(model_dfs[\"CatBoostVecsOnly\"].index),\n",
    "    gold_standard.index.equals(model_dfs[\"RandomForestFreqsOnly\"].index),\n",
    "    gold_standard.index.equals(model_dfs[\"XGBAllFeats\"].index)\n",
    ")"
   ]
  },
  {
   "cell_type": "code",
   "execution_count": 12,
   "metadata": {},
   "outputs": [],
   "source": [
    "new_df = []\n",
    "\n",
    "for idx in gold_standard.index:\n",
    "    gs_row = gold_standard.loc[idx]\n",
    "    appr = gs_row[\"Appropriate\"]\n",
    "    tg = gs_row[\"Too good\"]\n",
    "    tb = gs_row[\"Too bad\"]\n",
    "    sent = gs_row[\"Masked_sentence\"]\n",
    "    err = gs_row[\"Wrong_answer\"]\n",
    "    corr = gs_row[\"Right_answer\"]\n",
    "\n",
    "    new_row = dict()\n",
    "    new_row[\"idx\"] = idx\n",
    "    new_row[\"Masked_sentence\"] = sent\n",
    "    new_row[\"Right_answer\"] = corr\n",
    "    new_row[\"Wrong_answer\"] = err\n",
    "\n",
    "    for model in model_dfs.keys():\n",
    "        model_row = model_dfs[model].loc[idx]\n",
    "        model_outputs = model_row[\"variants\"][:TOP_K]\n",
    "        model_tg = set(model_outputs) & set(tg)\n",
    "        model_tb = set(model_outputs) & set(tb)\n",
    "        model_appr = set(model_outputs) & set(appr)\n",
    "\n",
    "        new_row[f\"{model} Too good\"] = list(model_tg)\n",
    "        new_row[f\"{model} Too bad\"] = list(model_tb)\n",
    "        new_row[f\"{model} Appropriate\"] = list(model_appr)\n",
    "\n",
    "    new_df.append(new_row)\n",
    "\n",
    "new_df = pd.DataFrame(new_df)"
   ]
  },
  {
   "cell_type": "code",
   "execution_count": 13,
   "metadata": {},
   "outputs": [
    {
     "data": {
      "text/html": [
       "<div>\n",
       "<style scoped>\n",
       "    .dataframe tbody tr th:only-of-type {\n",
       "        vertical-align: middle;\n",
       "    }\n",
       "\n",
       "    .dataframe tbody tr th {\n",
       "        vertical-align: top;\n",
       "    }\n",
       "\n",
       "    .dataframe thead th {\n",
       "        text-align: right;\n",
       "    }\n",
       "</style>\n",
       "<table border=\"1\" class=\"dataframe\">\n",
       "  <thead>\n",
       "    <tr style=\"text-align: right;\">\n",
       "      <th></th>\n",
       "      <th>idx</th>\n",
       "      <th>Masked_sentence</th>\n",
       "      <th>Right_answer</th>\n",
       "      <th>Wrong_answer</th>\n",
       "      <th>CatBoostFeatDrop Too good</th>\n",
       "      <th>CatBoostFeatDrop Too bad</th>\n",
       "      <th>CatBoostFeatDrop Appropriate</th>\n",
       "      <th>CatBoostVecsOnly Too good</th>\n",
       "      <th>CatBoostVecsOnly Too bad</th>\n",
       "      <th>CatBoostVecsOnly Appropriate</th>\n",
       "      <th>RandomForestFreqsOnly Too good</th>\n",
       "      <th>RandomForestFreqsOnly Too bad</th>\n",
       "      <th>RandomForestFreqsOnly Appropriate</th>\n",
       "      <th>XGBAllFeats Too good</th>\n",
       "      <th>XGBAllFeats Too bad</th>\n",
       "      <th>XGBAllFeats Appropriate</th>\n",
       "    </tr>\n",
       "  </thead>\n",
       "  <tbody>\n",
       "    <tr>\n",
       "      <th>0</th>\n",
       "      <td>153493</td>\n",
       "      <td>The amount of people who has no occupation in...</td>\n",
       "      <td>stable</td>\n",
       "      <td>the same</td>\n",
       "      <td>[steady]</td>\n",
       "      <td>[state, dependable]</td>\n",
       "      <td>[consistent]</td>\n",
       "      <td>[steady]</td>\n",
       "      <td>[state, dependable]</td>\n",
       "      <td>[consistent]</td>\n",
       "      <td>[steady]</td>\n",
       "      <td>[state, dependable]</td>\n",
       "      <td>[consistent]</td>\n",
       "      <td>[steady]</td>\n",
       "      <td>[state, dependable]</td>\n",
       "      <td>[consistent]</td>\n",
       "    </tr>\n",
       "    <tr>\n",
       "      <th>1</th>\n",
       "      <td>83294</td>\n",
       "      <td>Some politicians have come up with an idea to ...</td>\n",
       "      <td>disadvantages</td>\n",
       "      <td>backwards</td>\n",
       "      <td>[shortcomings]</td>\n",
       "      <td>[]</td>\n",
       "      <td>[limitations, cons]</td>\n",
       "      <td>[shortcomings]</td>\n",
       "      <td>[]</td>\n",
       "      <td>[limitations, cons]</td>\n",
       "      <td>[shortcomings]</td>\n",
       "      <td>[]</td>\n",
       "      <td>[limitations, cons]</td>\n",
       "      <td>[shortcomings]</td>\n",
       "      <td>[]</td>\n",
       "      <td>[limitations, cons, weaknesses]</td>\n",
       "    </tr>\n",
       "    <tr>\n",
       "      <th>2</th>\n",
       "      <td>77723</td>\n",
       "      <td>As for disadvantages, global warming and air ...</td>\n",
       "      <td>number</td>\n",
       "      <td>amount</td>\n",
       "      <td>[]</td>\n",
       "      <td>[level, part]</td>\n",
       "      <td>[quantity, amount]</td>\n",
       "      <td>[]</td>\n",
       "      <td>[value]</td>\n",
       "      <td>[quantity, count, amount]</td>\n",
       "      <td>[]</td>\n",
       "      <td>[level, part]</td>\n",
       "      <td>[quantity, amount]</td>\n",
       "      <td>[]</td>\n",
       "      <td>[level, part]</td>\n",
       "      <td>[quantity, amount]</td>\n",
       "    </tr>\n",
       "    <tr>\n",
       "      <th>3</th>\n",
       "      <td>74220</td>\n",
       "      <td>It is slightly below 30°C in Yakutsk and 30°C...</td>\n",
       "      <td>trend</td>\n",
       "      <td>tendency</td>\n",
       "      <td>[]</td>\n",
       "      <td>[consistency, resurgence, phenomenon]</td>\n",
       "      <td>[tendency]</td>\n",
       "      <td>[]</td>\n",
       "      <td>[consistency, resurgence, phenomenon]</td>\n",
       "      <td>[tendency]</td>\n",
       "      <td>[]</td>\n",
       "      <td>[consistency, resurgence, phenomenon]</td>\n",
       "      <td>[tendency]</td>\n",
       "      <td>[]</td>\n",
       "      <td>[fad, craze, consistency]</td>\n",
       "      <td>[tendency]</td>\n",
       "    </tr>\n",
       "    <tr>\n",
       "      <th>4</th>\n",
       "      <td>53390</td>\n",
       "      <td>The number of men who are aged between 15 and...</td>\n",
       "      <td>number</td>\n",
       "      <td>part</td>\n",
       "      <td>[]</td>\n",
       "      <td>[value, level]</td>\n",
       "      <td>[quantity, amount]</td>\n",
       "      <td>[]</td>\n",
       "      <td>[value, multitude]</td>\n",
       "      <td>[quantity, amount]</td>\n",
       "      <td>[]</td>\n",
       "      <td>[value, level]</td>\n",
       "      <td>[quantity, amount]</td>\n",
       "      <td>[]</td>\n",
       "      <td>[value, level]</td>\n",
       "      <td>[quantity, amount]</td>\n",
       "    </tr>\n",
       "  </tbody>\n",
       "</table>\n",
       "</div>"
      ],
      "text/plain": [
       "      idx                                    Masked_sentence   Right_answer  \\\n",
       "0  153493   The amount of people who has no occupation in...         stable   \n",
       "1   83294  Some politicians have come up with an idea to ...  disadvantages   \n",
       "2   77723   As for disadvantages, global warming and air ...         number   \n",
       "3   74220   It is slightly below 30°C in Yakutsk and 30°C...          trend   \n",
       "4   53390   The number of men who are aged between 15 and...         number   \n",
       "\n",
       "  Wrong_answer CatBoostFeatDrop Too good  \\\n",
       "0     the same                  [steady]   \n",
       "1    backwards            [shortcomings]   \n",
       "2       amount                        []   \n",
       "3     tendency                        []   \n",
       "4         part                        []   \n",
       "\n",
       "                CatBoostFeatDrop Too bad CatBoostFeatDrop Appropriate  \\\n",
       "0                    [state, dependable]                 [consistent]   \n",
       "1                                     []          [limitations, cons]   \n",
       "2                          [level, part]           [quantity, amount]   \n",
       "3  [consistency, resurgence, phenomenon]                   [tendency]   \n",
       "4                         [value, level]           [quantity, amount]   \n",
       "\n",
       "  CatBoostVecsOnly Too good               CatBoostVecsOnly Too bad  \\\n",
       "0                  [steady]                    [state, dependable]   \n",
       "1            [shortcomings]                                     []   \n",
       "2                        []                                [value]   \n",
       "3                        []  [consistency, resurgence, phenomenon]   \n",
       "4                        []                     [value, multitude]   \n",
       "\n",
       "  CatBoostVecsOnly Appropriate RandomForestFreqsOnly Too good  \\\n",
       "0                 [consistent]                       [steady]   \n",
       "1          [limitations, cons]                 [shortcomings]   \n",
       "2    [quantity, count, amount]                             []   \n",
       "3                   [tendency]                             []   \n",
       "4           [quantity, amount]                             []   \n",
       "\n",
       "           RandomForestFreqsOnly Too bad RandomForestFreqsOnly Appropriate  \\\n",
       "0                    [state, dependable]                      [consistent]   \n",
       "1                                     []               [limitations, cons]   \n",
       "2                          [level, part]                [quantity, amount]   \n",
       "3  [consistency, resurgence, phenomenon]                        [tendency]   \n",
       "4                         [value, level]                [quantity, amount]   \n",
       "\n",
       "  XGBAllFeats Too good        XGBAllFeats Too bad  \\\n",
       "0             [steady]        [state, dependable]   \n",
       "1       [shortcomings]                         []   \n",
       "2                   []              [level, part]   \n",
       "3                   []  [fad, craze, consistency]   \n",
       "4                   []             [value, level]   \n",
       "\n",
       "           XGBAllFeats Appropriate  \n",
       "0                     [consistent]  \n",
       "1  [limitations, cons, weaknesses]  \n",
       "2               [quantity, amount]  \n",
       "3                       [tendency]  \n",
       "4               [quantity, amount]  "
      ]
     },
     "execution_count": 13,
     "metadata": {},
     "output_type": "execute_result"
    }
   ],
   "source": [
    "new_df.head()"
   ]
  },
  {
   "cell_type": "code",
   "execution_count": 14,
   "metadata": {},
   "outputs": [],
   "source": [
    "new_df.to_csv(\"tables/model_outputs_comparison.csv\", sep=\";\")"
   ]
  }
 ],
 "metadata": {
  "interpreter": {
   "hash": "87a99aaab5997bb5662bde23a5190ed0ae9cf649d41a5ca6982601565cb11a4c"
  },
  "kernelspec": {
   "display_name": "Python 3.8.10 64-bit ('master_thesis_env': venv)",
   "language": "python",
   "name": "python3"
  },
  "language_info": {
   "codemirror_mode": {
    "name": "ipython",
    "version": 3
   },
   "file_extension": ".py",
   "mimetype": "text/x-python",
   "name": "python",
   "nbconvert_exporter": "python",
   "pygments_lexer": "ipython3",
   "version": "3.8.10"
  },
  "orig_nbformat": 4
 },
 "nbformat": 4,
 "nbformat_minor": 2
}
