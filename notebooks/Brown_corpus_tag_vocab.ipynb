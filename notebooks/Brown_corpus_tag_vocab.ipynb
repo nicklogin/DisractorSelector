{
 "cells": [
  {
   "cell_type": "code",
   "execution_count": 6,
   "id": "78a565f0",
   "metadata": {},
   "outputs": [],
   "source": [
    "import nltk\n",
    "from nltk.corpus import brown\n",
    "from collections import Counter, defaultdict\n",
    "from tqdm import tqdm_notebook\n",
    "import pandas as pd"
   ]
  },
  {
   "cell_type": "code",
   "execution_count": 3,
   "id": "9004ca15",
   "metadata": {},
   "outputs": [
    {
     "name": "stderr",
     "output_type": "stream",
     "text": [
      "[nltk_data] Downloading package brown to\n",
      "[nltk_data]     C:\\Users\\User\\AppData\\Roaming\\nltk_data...\n",
      "[nltk_data]   Unzipping corpora\\brown.zip.\n"
     ]
    },
    {
     "data": {
      "text/plain": [
       "True"
      ]
     },
     "execution_count": 3,
     "metadata": {},
     "output_type": "execute_result"
    }
   ],
   "source": [
    "nltk.download(\"brown\")"
   ]
  },
  {
   "cell_type": "code",
   "execution_count": 4,
   "id": "72895e24",
   "metadata": {},
   "outputs": [
    {
     "data": {
      "text/plain": [
       "1161192"
      ]
     },
     "execution_count": 4,
     "metadata": {},
     "output_type": "execute_result"
    }
   ],
   "source": [
    "len(brown.tagged_words())"
   ]
  },
  {
   "cell_type": "code",
   "execution_count": 13,
   "id": "f97d8c3e",
   "metadata": {},
   "outputs": [
    {
     "name": "stderr",
     "output_type": "stream",
     "text": [
      "C:\\Users\\User\\AppData\\Local\\Temp\\ipykernel_7332\\661113933.py:4: TqdmDeprecationWarning: This function will be removed in tqdm==5.0.0\n",
      "Please use `tqdm.notebook.tqdm` instead of `tqdm.tqdm_notebook`\n",
      "  for word, pos in tqdm_notebook(brown.tagged_words(), total=len(brown.tagged_words())):\n"
     ]
    },
    {
     "data": {
      "application/vnd.jupyter.widget-view+json": {
       "model_id": "43ff1329beb3452db8eede7a1a51508e",
       "version_major": 2,
       "version_minor": 0
      },
      "text/plain": [
       "  0%|          | 0/1161192 [00:00<?, ?it/s]"
      ]
     },
     "metadata": {},
     "output_type": "display_data"
    }
   ],
   "source": [
    "# x is a dict which will have the word as key and pos tags as values \n",
    "x = defaultdict(list) # uncased\n",
    "y = defaultdict(list) # cased\n",
    "\n",
    "for word, pos in tqdm_notebook(brown.tagged_words(), total=len(brown.tagged_words())):\n",
    "    if pos not in x[word.lower()]:        # to append one tag only once\n",
    "        x[word.lower()].append(pos)       # adding key-value to x\n",
    "        y[word].append(pos)"
   ]
  },
  {
   "cell_type": "code",
   "execution_count": 14,
   "id": "9ff7ec01",
   "metadata": {},
   "outputs": [],
   "source": [
    "x = pd.DataFrame(pd.Series(x))\n",
    "y = pd.DataFrame(pd.Series(y))"
   ]
  },
  {
   "cell_type": "code",
   "execution_count": 15,
   "id": "ef92a4de",
   "metadata": {},
   "outputs": [
    {
     "data": {
      "text/html": [
       "<div>\n",
       "<style scoped>\n",
       "    .dataframe tbody tr th:only-of-type {\n",
       "        vertical-align: middle;\n",
       "    }\n",
       "\n",
       "    .dataframe tbody tr th {\n",
       "        vertical-align: top;\n",
       "    }\n",
       "\n",
       "    .dataframe thead th {\n",
       "        text-align: right;\n",
       "    }\n",
       "</style>\n",
       "<table border=\"1\" class=\"dataframe\">\n",
       "  <thead>\n",
       "    <tr style=\"text-align: right;\">\n",
       "      <th></th>\n",
       "      <th>0</th>\n",
       "    </tr>\n",
       "  </thead>\n",
       "  <tbody>\n",
       "    <tr>\n",
       "      <th>the</th>\n",
       "      <td>[AT, AT-TL, AT-HL, AT-NC, NIL, AT-TL-HL]</td>\n",
       "    </tr>\n",
       "    <tr>\n",
       "      <th>fulton</th>\n",
       "      <td>[NP-TL, NP]</td>\n",
       "    </tr>\n",
       "    <tr>\n",
       "      <th>county</th>\n",
       "      <td>[NN-TL, NN, NN-HL]</td>\n",
       "    </tr>\n",
       "    <tr>\n",
       "      <th>grand</th>\n",
       "      <td>[JJ-TL, JJ, FW-JJ-TL]</td>\n",
       "    </tr>\n",
       "    <tr>\n",
       "      <th>jury</th>\n",
       "      <td>[NN-TL, NN, NN-HL]</td>\n",
       "    </tr>\n",
       "    <tr>\n",
       "      <th>...</th>\n",
       "      <td>...</td>\n",
       "    </tr>\n",
       "    <tr>\n",
       "      <th>aviary</th>\n",
       "      <td>[NN]</td>\n",
       "    </tr>\n",
       "    <tr>\n",
       "      <th>olive-flushed</th>\n",
       "      <td>[JJ]</td>\n",
       "    </tr>\n",
       "    <tr>\n",
       "      <th>coral-colored</th>\n",
       "      <td>[JJ]</td>\n",
       "    </tr>\n",
       "    <tr>\n",
       "      <th>boucle</th>\n",
       "      <td>[NN]</td>\n",
       "    </tr>\n",
       "    <tr>\n",
       "      <th>stupefying</th>\n",
       "      <td>[VBG]</td>\n",
       "    </tr>\n",
       "  </tbody>\n",
       "</table>\n",
       "<p>49815 rows × 1 columns</p>\n",
       "</div>"
      ],
      "text/plain": [
       "                                                      0\n",
       "the            [AT, AT-TL, AT-HL, AT-NC, NIL, AT-TL-HL]\n",
       "fulton                                      [NP-TL, NP]\n",
       "county                               [NN-TL, NN, NN-HL]\n",
       "grand                             [JJ-TL, JJ, FW-JJ-TL]\n",
       "jury                                 [NN-TL, NN, NN-HL]\n",
       "...                                                 ...\n",
       "aviary                                             [NN]\n",
       "olive-flushed                                      [JJ]\n",
       "coral-colored                                      [JJ]\n",
       "boucle                                             [NN]\n",
       "stupefying                                        [VBG]\n",
       "\n",
       "[49815 rows x 1 columns]"
      ]
     },
     "execution_count": 15,
     "metadata": {},
     "output_type": "execute_result"
    }
   ],
   "source": [
    "x"
   ]
  },
  {
   "cell_type": "code",
   "execution_count": 16,
   "id": "846243fe",
   "metadata": {},
   "outputs": [],
   "source": [
    "x.to_csv(\"brown_corpus_tags.csv\", sep=';')"
   ]
  },
  {
   "cell_type": "code",
   "execution_count": null,
   "id": "12028d15",
   "metadata": {},
   "outputs": [],
   "source": []
  }
 ],
 "metadata": {
  "kernelspec": {
   "display_name": "Python 3 (ipykernel)",
   "language": "python",
   "name": "python3"
  },
  "language_info": {
   "codemirror_mode": {
    "name": "ipython",
    "version": 3
   },
   "file_extension": ".py",
   "mimetype": "text/x-python",
   "name": "python",
   "nbconvert_exporter": "python",
   "pygments_lexer": "ipython3",
   "version": "3.8.10"
  }
 },
 "nbformat": 4,
 "nbformat_minor": 5
}
