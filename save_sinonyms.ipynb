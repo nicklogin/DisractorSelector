{
 "cells": [
  {
   "cell_type": "code",
   "execution_count": 1,
   "metadata": {},
   "outputs": [],
   "source": [
    "import numpy as np\n",
    "import pandas as pd\n",
    "import json\n",
    "import pickle\n",
    "import os\n",
    "\n",
    "from ast import literal_eval\n",
    "from tqdm import tqdm_notebook"
   ]
  },
  {
   "cell_type": "code",
   "execution_count": null,
   "metadata": {},
   "outputs": [],
   "source": [
    "with open(\"sinonyms.json\", 'r', encoding='utf8') as inp:\n",
    "    sinonyms = json.load(inp)"
   ]
  },
  {
   "cell_type": "code",
   "execution_count": 4,
   "metadata": {},
   "outputs": [],
   "source": [
    "id2word = list(sinonyms.keys())\n",
    "word2id = {word: idx for idx, word in enumerate(id2word)}"
   ]
  },
  {
   "cell_type": "code",
   "execution_count": 9,
   "metadata": {},
   "outputs": [
    {
     "name": "stderr",
     "output_type": "stream",
     "text": [
      "C:\\Users\\k1l77\\AppData\\Local\\Temp\\ipykernel_20532\\3922941160.py:2: TqdmDeprecationWarning: This function will be removed in tqdm==5.0.0\n",
      "Please use `tqdm.notebook.tqdm` instead of `tqdm.tqdm_notebook`\n",
      "  word: np.array([word2id[syn] for syn in syns]) for word, syns in tqdm_notebook(sinonyms.items(), total=len(sinonyms))\n"
     ]
    },
    {
     "data": {
      "application/vnd.jupyter.widget-view+json": {
       "model_id": "0ac47b068d1f4c0e83fad020bba490f5",
       "version_major": 2,
       "version_minor": 0
      },
      "text/plain": [
       "  0%|          | 0/27923 [00:00<?, ?it/s]"
      ]
     },
     "metadata": {},
     "output_type": "display_data"
    }
   ],
   "source": [
    "sinonyms_mapped = {\n",
    "    word: np.array([word2id[syn] for syn in syns]) for word, syns in tqdm_notebook(sinonyms.items(), total=len(sinonyms))\n",
    "}"
   ]
  },
  {
   "cell_type": "code",
   "execution_count": 10,
   "metadata": {},
   "outputs": [],
   "source": [
    "sinonyms1 = (\n",
    "    sinonyms_mapped,\n",
    "    id2word\n",
    ")"
   ]
  },
  {
   "cell_type": "code",
   "execution_count": 13,
   "metadata": {},
   "outputs": [],
   "source": [
    "# Taken from https://stackoverflow.com/a/42186731\n",
    "with open('sinonyms_compressed.pickle', 'wb') as f:\n",
    "    # Pickle the 'data' dictionary using the highest protocol available.\n",
    "    pickle.dump(sinonyms1, f, pickle.HIGHEST_PROTOCOL)"
   ]
  },
  {
   "cell_type": "markdown",
   "metadata": {},
   "source": [
    "Лучше хранить в формате (слово -> cписок id слов-синонимов), список слов-синонимов"
   ]
  },
  {
   "cell_type": "markdown",
   "metadata": {},
   "source": [
    "Теперь попробуем загрузить список синонимов:"
   ]
  },
  {
   "cell_type": "code",
   "execution_count": 14,
   "metadata": {},
   "outputs": [],
   "source": [
    "with open('sinonyms_compressed.pickle', 'rb') as inp:\n",
    "    sinonyms1, id2word = pickle.load(inp)"
   ]
  },
  {
   "cell_type": "markdown",
   "metadata": {},
   "source": [
    "Перед выкладыванием на GitHub нужно разбить этот файл на 10 архивов по 60 мб"
   ]
  },
  {
   "cell_type": "code",
   "execution_count": 1,
   "metadata": {},
   "outputs": [
    {
     "name": "stdout",
     "output_type": "stream",
     "text": [
      "function get_clf_and_cols, exec time 0.9451262950897217s\n",
      "function batch_add_distractors_from_corpus, exec time 0.30300259590148926s\n",
      "function batch_apply_vocab_filters, exec time 45.12807846069336s\n",
      "function batch_apply_context_filters, exec time 227.4186074733734s\n",
      "function batch_add_distractors_from_word2vec, exec time 272.61268496513367s\n",
      "function batch_suggest_distractors, exec time 272.91568756103516s\n"
     ]
    },
    {
     "name": "stderr",
     "output_type": "stream",
     "text": [
      "Some weights of the model checkpoint at bert-base-cased were not used when initializing BertModel: ['cls.predictions.transform.dense.weight', 'cls.seq_relationship.bias', 'cls.predictions.transform.dense.bias', 'cls.predictions.decoder.weight', 'cls.predictions.transform.LayerNorm.bias', 'cls.seq_relationship.weight', 'cls.predictions.bias', 'cls.predictions.transform.LayerNorm.weight']\n",
      "- This IS expected if you are initializing BertModel from the checkpoint of a model trained on another task or with another architecture (e.g. initializing a BertForSequenceClassification model from a BertForPreTraining model).\n",
      "- This IS NOT expected if you are initializing BertModel from the checkpoint of a model that you expect to be exactly identical (initializing a BertForSequenceClassification model from a BertForSequenceClassification model).\n"
     ]
    }
   ],
   "source": [
    "!python -m distractor_generator --no-clf"
   ]
  },
  {
   "cell_type": "markdown",
   "metadata": {},
   "source": [
    "Только первое условие из batch_apply_context_filters:"
   ]
  },
  {
   "cell_type": "code",
   "execution_count": 2,
   "metadata": {},
   "outputs": [
    {
     "name": "stdout",
     "output_type": "stream",
     "text": [
      "function get_clf_and_cols, exec time 0.9361515045166016s\n",
      "function batch_add_distractors_from_corpus, exec time 0.29303407669067383s\n",
      "function batch_apply_vocab_filters, exec time 47.98983550071716s\n",
      "function batch_apply_context_filters, exec time 0.40920042991638184s\n",
      "function batch_add_distractors_from_word2vec, exec time 48.460036754608154s\n",
      "function batch_suggest_distractors, exec time 48.75307083129883s\n"
     ]
    },
    {
     "name": "stderr",
     "output_type": "stream",
     "text": [
      "Some weights of the model checkpoint at bert-base-cased were not used when initializing BertModel: ['cls.predictions.transform.dense.weight', 'cls.predictions.bias', 'cls.predictions.decoder.weight', 'cls.predictions.transform.LayerNorm.bias', 'cls.seq_relationship.bias', 'cls.seq_relationship.weight', 'cls.predictions.transform.dense.bias', 'cls.predictions.transform.LayerNorm.weight']\n",
      "- This IS expected if you are initializing BertModel from the checkpoint of a model trained on another task or with another architecture (e.g. initializing a BertForSequenceClassification model from a BertForPreTraining model).\n",
      "- This IS NOT expected if you are initializing BertModel from the checkpoint of a model that you expect to be exactly identical (initializing a BertForSequenceClassification model from a BertForSequenceClassification model).\n"
     ]
    }
   ],
   "source": [
    "!python -m distractor_generator --no-clf"
   ]
  },
  {
   "cell_type": "markdown",
   "metadata": {},
   "source": [
    "Только второе условие из batch_apply_context_filters"
   ]
  },
  {
   "cell_type": "code",
   "execution_count": 1,
   "metadata": {},
   "outputs": [
    {
     "name": "stdout",
     "output_type": "stream",
     "text": [
      "function get_clf_and_cols, exec time 0.9420266151428223s\n",
      "function batch_add_distractors_from_corpus, exec time 0.30721378326416016s\n",
      "function batch_apply_vocab_filters, exec time 45.786131143569946s\n",
      "function batch_apply_context_filters, exec time 230.42977046966553s\n",
      "function batch_add_distractors_from_word2vec, exec time 276.2881667613983s\n",
      "function batch_suggest_distractors, exec time 276.5953805446625s\n"
     ]
    },
    {
     "name": "stderr",
     "output_type": "stream",
     "text": [
      "Some weights of the model checkpoint at bert-base-cased were not used when initializing BertModel: ['cls.predictions.transform.dense.bias', 'cls.predictions.transform.dense.weight', 'cls.seq_relationship.bias', 'cls.predictions.bias', 'cls.predictions.transform.LayerNorm.bias', 'cls.seq_relationship.weight', 'cls.predictions.transform.LayerNorm.weight', 'cls.predictions.decoder.weight']\n",
      "- This IS expected if you are initializing BertModel from the checkpoint of a model trained on another task or with another architecture (e.g. initializing a BertForSequenceClassification model from a BertForPreTraining model).\n",
      "- This IS NOT expected if you are initializing BertModel from the checkpoint of a model that you expect to be exactly identical (initializing a BertForSequenceClassification model from a BertForSequenceClassification model).\n"
     ]
    }
   ],
   "source": [
    "!python -m distractor_generator --no-clf"
   ]
  },
  {
   "cell_type": "markdown",
   "metadata": {},
   "source": [
    "Попробуем запустить после оптимизации 2 условия из batch_apply_context_filters:"
   ]
  },
  {
   "cell_type": "code",
   "execution_count": 1,
   "metadata": {},
   "outputs": [
    {
     "name": "stdout",
     "output_type": "stream",
     "text": [
      "function get_clf_and_cols, exec time 0.9429447650909424s\n",
      "function batch_add_distractors_from_corpus, exec time 0.17799997329711914s\n",
      "function batch_apply_vocab_filters, exec time 45.58180356025696s\n",
      "[(['dependable', 'consistent', 'steady', 'prosperous', 'volatile'], 13163), (['soared', 'surged', 'climbed', 'grew', 'fell'], 15759), (['advantages', 'limitations', 'shortcomings', 'weaknesses', 'risks'], 4854), (['multitude', 'handful', 'proportion', 'variety', 'amount'], 10943), (['phenomenon', 'resurgence', 'tendency', 'craze', 'fad'], 9632)]\n",
      "function batch_apply_context_filters, exec time 0.8459987640380859s\n",
      "[(['dependable', 'consistent', 'steady', 'prosperous', 'volatile'], 13163), (['soared', 'surged', 'climbed', 'grew', 'fell'], 15759), (['advantages', 'limitations', 'shortcomings', 'weaknesses', 'risks'], 4854), (['multitude', 'handful', 'proportion', 'variety', 'amount'], 10943), (['phenomenon', 'resurgence', 'tendency', 'craze', 'fad'], 9632)]\n",
      "function batch_add_distractors_from_word2vec, exec time 46.5007758140564s\n",
      "function batch_suggest_distractors, exec time 46.678775787353516s\n"
     ]
    },
    {
     "name": "stderr",
     "output_type": "stream",
     "text": [
      "Some weights of the model checkpoint at bert-base-cased were not used when initializing BertModel: ['cls.seq_relationship.bias', 'cls.predictions.transform.dense.weight', 'cls.predictions.transform.LayerNorm.weight', 'cls.predictions.transform.dense.bias', 'cls.seq_relationship.weight', 'cls.predictions.transform.LayerNorm.bias', 'cls.predictions.decoder.weight', 'cls.predictions.bias']\n",
      "- This IS expected if you are initializing BertModel from the checkpoint of a model trained on another task or with another architecture (e.g. initializing a BertForSequenceClassification model from a BertForPreTraining model).\n",
      "- This IS NOT expected if you are initializing BertModel from the checkpoint of a model that you expect to be exactly identical (initializing a BertForSequenceClassification model from a BertForSequenceClassification model).\n"
     ]
    }
   ],
   "source": [
    "!python -m distractor_generator --no-clf"
   ]
  },
  {
   "cell_type": "markdown",
   "metadata": {},
   "source": [
    "Теперь попробуем оптимизировать, избавившись от генерации регулярок под каждое слово:"
   ]
  },
  {
   "cell_type": "code",
   "execution_count": 1,
   "metadata": {},
   "outputs": [
    {
     "name": "stdout",
     "output_type": "stream",
     "text": [
      "function get_clf_and_cols, exec time 0.9566023349761963s\n",
      "function batch_add_distractors_from_corpus, exec time 0.16095399856567383s\n",
      "function batch_apply_vocab_filters, exec time 1.498542308807373s\n",
      "function batch_apply_context_filters, exec time 0.8380417823791504s\n",
      "function batch_add_distractors_from_word2vec, exec time 2.4767982959747314s\n",
      "function batch_suggest_distractors, exec time 2.6417126655578613s\n"
     ]
    },
    {
     "name": "stderr",
     "output_type": "stream",
     "text": [
      "Some weights of the model checkpoint at bert-base-cased were not used when initializing BertModel: ['cls.seq_relationship.weight', 'cls.predictions.bias', 'cls.predictions.transform.dense.weight', 'cls.seq_relationship.bias', 'cls.predictions.decoder.weight', 'cls.predictions.transform.dense.bias', 'cls.predictions.transform.LayerNorm.weight', 'cls.predictions.transform.LayerNorm.bias']\n",
      "- This IS expected if you are initializing BertModel from the checkpoint of a model trained on another task or with another architecture (e.g. initializing a BertForSequenceClassification model from a BertForPreTraining model).\n",
      "- This IS NOT expected if you are initializing BertModel from the checkpoint of a model that you expect to be exactly identical (initializing a BertForSequenceClassification model from a BertForSequenceClassification model).\n"
     ]
    }
   ],
   "source": [
    "!python -m distractor_generator --no-clf"
   ]
  },
  {
   "cell_type": "markdown",
   "metadata": {},
   "source": [
    "Теперь попробуем с классификатором и в оптимальном сеттинге:"
   ]
  },
  {
   "cell_type": "code",
   "execution_count": null,
   "metadata": {},
   "outputs": [],
   "source": [
    "!python -m distractor_generator --n 4"
   ]
  },
  {
   "cell_type": "code",
   "execution_count": 3,
   "metadata": {},
   "outputs": [],
   "source": [
    "from distractor_generator.distractor_suggestor import variants"
   ]
  },
  {
   "cell_type": "code",
   "execution_count": 5,
   "metadata": {},
   "outputs": [
    {
     "data": {
      "text/plain": [
       "Count                                     3\n",
       "N_variants                                2\n",
       "variants      {'stabilized': 2, 'state': 1}\n",
       "Name: stable, dtype: object"
      ]
     },
     "execution_count": 5,
     "metadata": {},
     "output_type": "execute_result"
    }
   ],
   "source": [
    "variants.loc[\"stable\"]"
   ]
  },
  {
   "cell_type": "code",
   "execution_count": 6,
   "metadata": {},
   "outputs": [],
   "source": [
    "variants.loc[\"stable\"].get(\"sTabLE\")"
   ]
  }
 ],
 "metadata": {
  "kernelspec": {
   "display_name": "Python 3.8.10 ('env': venv)",
   "language": "python",
   "name": "python3"
  },
  "language_info": {
   "codemirror_mode": {
    "name": "ipython",
    "version": 3
   },
   "file_extension": ".py",
   "mimetype": "text/x-python",
   "name": "python",
   "nbconvert_exporter": "python",
   "pygments_lexer": "ipython3",
   "version": "3.8.10"
  },
  "orig_nbformat": 4,
  "vscode": {
   "interpreter": {
    "hash": "fb027b1bff303369109a8d50bcc199fe80021bce48afce4744d88617980fbd0e"
   }
  }
 },
 "nbformat": 4,
 "nbformat_minor": 2
}
